{
 "cells": [
  {
   "cell_type": "code",
   "execution_count": 5,
   "metadata": {
    "collapsed": false
   },
   "outputs": [],
   "source": [
    "import skimage\n",
    "import skimage.data\n",
    "image1 = skimage. data.imread(r'.\\bckci-v5.0.bmp')\n",
    "imagegr1 = skimage.color.rgb2gray(image1)\n",
    "image2 = skimage. data.imread(r'.\\bckci-006.bmp')\n",
    "imagegr2 = skimage.color.rgb2gray(image2)"
   ]
  },
  {
   "cell_type": "code",
   "execution_count": 6,
   "metadata": {
    "collapsed": false
   },
   "outputs": [],
   "source": [
    "import matplotlib.pyplot as mp\n",
    "\n",
    "f=mp.figure()\n",
    "f.add_subplot(2, 1, 1)  # this line outputs images on top of each other\n",
    "mp.imshow(imagegr1)\n",
    "f.add_subplot(2, 1, 2)  # this line outputs images on top of each other\n",
    "mp.imshow(imagegr2)\n",
    "\n",
    "mp.show()"
   ]
  },
  {
   "cell_type": "code",
   "execution_count": 24,
   "metadata": {
    "collapsed": false
   },
   "outputs": [],
   "source": [
    "from skimage import data, io, filters,measure\n",
    "from scipy import ndimage\n",
    "import numpy as np\n",
    "\n",
    "\n",
    "f=mp.figure()\n",
    "f.add_subplot(2, 2, 1)  # this line outputs images on top of each other\n",
    "mp.imshow(imagegr1)\n",
    "f.add_subplot(2, 2, 2)  # this line outputs images on top of each other\n",
    "mp.imshow(imagegr2)\n",
    "\n",
    "#horiz\n",
    "#deb=(388,200)\n",
    "#fin =(388,800)\n",
    "\n",
    "#vert\n",
    "deb=(100,250)\n",
    "fin =(700,250)\n",
    "\n",
    "\n",
    "# Extract the values along the line, using cubic interpolation\n",
    "zi1 = skimage.measure.profile_line(imagegr1, deb,fin) #vertically stack of array\n",
    "\n",
    "f.add_subplot(2, 2, 3)  # this line outputs images on top of each other\n",
    "mp.plot(zi1)\n",
    "\n",
    "#zi2 = ndimage.map_coordinates(imagegr2, np.vstack((deb,fin))) #vertically stack of array\n",
    "zi2 = skimage.measure.profile_line(imagegr2, deb,fin) #vertically stack of array\n",
    "f.add_subplot(2, 2, 4)  # this line outputs images on top of each other\n",
    "mp.plot(zi2)\n",
    "\n",
    "mp.show()\n",
    "\n",
    "resu=[]\n",
    "\n",
    "    \n"
   ]
  },
  {
   "cell_type": "code",
   "execution_count": 78,
   "metadata": {
    "collapsed": true
   },
   "outputs": [],
   "source": [
    "??filters.gaussian_filter()\n"
   ]
  },
  {
   "cell_type": "code",
   "execution_count": null,
   "metadata": {
    "collapsed": true
   },
   "outputs": [],
   "source": [
    "lecture avi avec ffmpeg"
   ]
  },
  {
   "cell_type": "code",
   "execution_count": null,
   "metadata": {
    "collapsed": true
   },
   "outputs": [],
   "source": [
    "from skimage import data, io, filters\n",
    "from scipy import ndimage\n",
    "import numpy as np\n",
    "#edges = filters.sobel(image)\n",
    "\n",
    "sobelneg = filters.sobel(imagegr)\n",
    "#sobelneg = 1 - filters.sobel(imagegr)\n",
    "#bw = filters.threshold_adaptive(image, 95, offset=-15)\n",
    "#mp.imshow(sobelneg,cmap = mp.cm.Greys_r)\n",
    "#mp.show()\n",
    "   \n",
    "imgthr = filters.threshold_adaptive(sobelneg, 500)\n",
    "imgthr = filters.gaussian_filter(imgthr,10) \n",
    "imgthr = filters.threshold_adaptive(imgthr, 500)\n",
    "\n",
    "\n",
    "mp.imshow(imgthr,cmap = mp.cm.Greys_r)\n",
    "mp.show()\n",
    "   \n",
    "#filters.rank.autolevel(image,square(3),0,10)"
   ]
  }
 ],
 "metadata": {
  "kernelspec": {
   "display_name": "Python 2",
   "language": "python",
   "name": "python2"
  },
  "language_info": {
   "codemirror_mode": {
    "name": "ipython",
    "version": 2
   },
   "file_extension": ".py",
   "mimetype": "text/x-python",
   "name": "python",
   "nbconvert_exporter": "python",
   "pygments_lexer": "ipython2",
   "version": "2.7.10"
  }
 },
 "nbformat": 4,
 "nbformat_minor": 0
}
