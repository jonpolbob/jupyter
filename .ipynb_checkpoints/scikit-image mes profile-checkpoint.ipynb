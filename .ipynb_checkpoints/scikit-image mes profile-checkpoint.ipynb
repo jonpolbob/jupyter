{
 "cells": [
  {
   "cell_type": "code",
   "execution_count": 67,
   "metadata": {
    "collapsed": false
   },
   "outputs": [],
   "source": [
    "import skimage\n",
    "import skimage.data\n",
    "image = skimage. data.imread(r'c:\\tmp\\maldonado.jpg')\n",
    "imagegr = skimage.color.rgb2gray(image)"
   ]
  },
  {
   "cell_type": "code",
   "execution_count": 96,
   "metadata": {
    "collapsed": false
   },
   "outputs": [],
   "source": [
    "import matplotlib.pyplot as mp\n",
    "mp.imshow(image)\n",
    "mp.show()"
   ]
  },
  {
   "cell_type": "code",
   "execution_count": 104,
   "metadata": {
    "collapsed": false
   },
   "outputs": [],
   "source": [
    "from skimage import data, io, filters\n",
    "from scipy import ndimage\n",
    "import numpy as np\n",
    "\n",
    "\n",
    "# Extract the values along the line, using cubic interpolation\n",
    "zi = ndimage.map_coordinates(imagegr, np.vstack((x,y))) #vertically stack of array\n",
    "mp.plot(zi)\n",
    "mp.show()\n",
    "\n",
    "resu=[]\n",
    "\n",
    "emptyline = scipy.array zeros(len(zi))\n",
    "for i in len(zi)/2:\n",
    "    data2 = vstack(emptyline[1:i].extend(zi[i:])\n",
    "    resu.append(sum(scipy.signal.correlate(zi,data2))\n",
    "    \n"
   ]
  },
  {
   "cell_type": "code",
   "execution_count": 78,
   "metadata": {
    "collapsed": true
   },
   "outputs": [],
   "source": [
    "??filters.gaussian_filter()\n"
   ]
  },
  {
   "cell_type": "code",
   "execution_count": null,
   "metadata": {
    "collapsed": true
   },
   "outputs": [],
   "source": [
    "lecture avi avec ffmpeg"
   ]
  },
  {
   "cell_type": "code",
   "execution_count": null,
   "metadata": {
    "collapsed": true
   },
   "outputs": [],
   "source": [
    "from skimage import data, io, filters\n",
    "from scipy import ndimage\n",
    "import numpy as np\n",
    "#edges = filters.sobel(image)\n",
    "\n",
    "sobelneg = filters.sobel(imagegr)\n",
    "#sobelneg = 1 - filters.sobel(imagegr)\n",
    "#bw = filters.threshold_adaptive(image, 95, offset=-15)\n",
    "#mp.imshow(sobelneg,cmap = mp.cm.Greys_r)\n",
    "#mp.show()\n",
    "   \n",
    "imgthr = filters.threshold_adaptive(sobelneg, 500)\n",
    "imgthr = filters.gaussian_filter(imgthr,10) \n",
    "imgthr = filters.threshold_adaptive(imgthr, 500)\n",
    "\n",
    "\n",
    "mp.imshow(imgthr,cmap = mp.cm.Greys_r)\n",
    "mp.show()\n",
    "   \n",
    "#filters.rank.autolevel(image,square(3),0,10)"
   ]
  }
 ],
 "metadata": {
  "kernelspec": {
   "display_name": "Python 2",
   "language": "python",
   "name": "python2"
  },
  "language_info": {
   "codemirror_mode": {
    "name": "ipython",
    "version": 2
   },
   "file_extension": ".py",
   "mimetype": "text/x-python",
   "name": "python",
   "nbconvert_exporter": "python",
   "pygments_lexer": "ipython2",
   "version": "2.7.10"
  }
 },
 "nbformat": 4,
 "nbformat_minor": 0
}
